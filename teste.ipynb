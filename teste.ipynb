{
 "cells": [
  {
   "cell_type": "code",
   "execution_count": 108,
   "metadata": {},
   "outputs": [],
   "source": [
    "from requests import get\n",
    "from pprint import pprint\n",
    "import re\n",
    "import json\n",
    "import pandas as pd"
   ]
  },
  {
   "cell_type": "code",
   "execution_count": 109,
   "metadata": {},
   "outputs": [
    {
     "data": {
      "text/plain": [
       "'igreja+catolica'"
      ]
     },
     "execution_count": 109,
     "metadata": {},
     "output_type": "execute_result"
    }
   ],
   "source": [
    "a = 'igreja catolica'\n",
    "a.replace(' ', '+')"
   ]
  },
  {
   "cell_type": "code",
   "execution_count": 126,
   "metadata": {},
   "outputs": [],
   "source": [
    "url = \"https://www.google.com.br/maps/place/Mitra+Arquidiocesana+S%C3%A3o+Paulo/data=!4m7!3m6!1s0x94ce59880fadcfc3:0x98eaed883ebd24e1!8m2!3d-23.588385!4d-46.6419757!16z%2Fg%2F1tkc7tcz!19sChIJw8-tD4hZzpQR4SS9Pojt6pg?authuser=0&hl=pt-BR&rclk=1\""
   ]
  },
  {
   "cell_type": "code",
   "execution_count": 127,
   "metadata": {},
   "outputs": [],
   "source": [
    "def extract_lat_long(text):\n",
    "    a, b, c = text.find('!3d'), text.find('!4d'), text.find('!16')\n",
    "    lat = text[a:b].replace('!3d', '')\n",
    "    lon = text[b:c].replace('!4d', '')\n",
    "    return [float(lat), float(lon)]"
   ]
  },
  {
   "cell_type": "code",
   "execution_count": 128,
   "metadata": {},
   "outputs": [
    {
     "data": {
      "text/plain": [
       "[-23.588385, -46.6419757]"
      ]
     },
     "execution_count": 128,
     "metadata": {},
     "output_type": "execute_result"
    }
   ],
   "source": [
    "extract_lat_long(url)"
   ]
  },
  {
   "cell_type": "code",
   "execution_count": 112,
   "metadata": {},
   "outputs": [],
   "source": [
    "data = {}"
   ]
  },
  {
   "cell_type": "code",
   "execution_count": 113,
   "metadata": {},
   "outputs": [],
   "source": [
    "def decode_unicode_escapes(text):\n",
    "    return re.sub(r'\\\\u[0-9a-fA-F]{4}', lambda match: chr(int(match.group(0)[2:], 16)), text)"
   ]
  },
  {
   "cell_type": "code",
   "execution_count": 114,
   "metadata": {},
   "outputs": [
    {
     "data": {
      "text/plain": [
       "'Paróquia Santa Rita de Cássia'"
      ]
     },
     "execution_count": 114,
     "metadata": {},
     "output_type": "execute_result"
    }
   ],
   "source": [
    "decode_unicode_escapes('Par\\u00f3quia Santa Rita de C\\u00e1ssia')"
   ]
  },
  {
   "cell_type": "code",
   "execution_count": 115,
   "metadata": {},
   "outputs": [
    {
     "data": {
      "text/html": [
       "<div>\n",
       "<style scoped>\n",
       "    .dataframe tbody tr th:only-of-type {\n",
       "        vertical-align: middle;\n",
       "    }\n",
       "\n",
       "    .dataframe tbody tr th {\n",
       "        vertical-align: top;\n",
       "    }\n",
       "\n",
       "    .dataframe thead th {\n",
       "        text-align: right;\n",
       "    }\n",
       "</style>\n",
       "<table border=\"1\" class=\"dataframe\">\n",
       "  <thead>\n",
       "    <tr style=\"text-align: right;\">\n",
       "      <th></th>\n",
       "      <th>LINK</th>\n",
       "      <th>LATITUDE</th>\n",
       "      <th>LONGITUDE</th>\n",
       "    </tr>\n",
       "    <tr>\n",
       "      <th>TITLE</th>\n",
       "      <th></th>\n",
       "      <th></th>\n",
       "      <th></th>\n",
       "    </tr>\n",
       "  </thead>\n",
       "  <tbody>\n",
       "    <tr>\n",
       "      <th>Paróquia Santa Teresinha - Higienópolis</th>\n",
       "      <td>https://www.google.com.br/maps/place/Par%C3%B3...</td>\n",
       "      <td>NaN</td>\n",
       "      <td>NaN</td>\n",
       "    </tr>\n",
       "    <tr>\n",
       "      <th>Paróquia Nossa Senhora de Guadalupe</th>\n",
       "      <td>https://www.google.com.br/maps/place/Par%C3%B3...</td>\n",
       "      <td>NaN</td>\n",
       "      <td>NaN</td>\n",
       "    </tr>\n",
       "    <tr>\n",
       "      <th>Paróquia Nossa Senhora da Conceição - Santa Ifigênia</th>\n",
       "      <td>https://www.google.com.br/maps/place/Par%C3%B3...</td>\n",
       "      <td>NaN</td>\n",
       "      <td>NaN</td>\n",
       "    </tr>\n",
       "    <tr>\n",
       "      <th>Paróquia São Luís Gonzaga</th>\n",
       "      <td>https://www.google.com.br/maps/place/Par%C3%B3...</td>\n",
       "      <td>NaN</td>\n",
       "      <td>NaN</td>\n",
       "    </tr>\n",
       "    <tr>\n",
       "      <th>Paróquia Imaculado Coração de Maria</th>\n",
       "      <td>https://www.google.com.br/maps/place/Par%C3%B3...</td>\n",
       "      <td>NaN</td>\n",
       "      <td>NaN</td>\n",
       "    </tr>\n",
       "    <tr>\n",
       "      <th>Paróquia São Paulo da Cruz - Igreja do Calvário</th>\n",
       "      <td>https://www.google.com.br/maps/place/Par%C3%B3...</td>\n",
       "      <td>NaN</td>\n",
       "      <td>NaN</td>\n",
       "    </tr>\n",
       "    <tr>\n",
       "      <th>Paróquia Sagrado Coração de Jesus</th>\n",
       "      <td>https://www.google.com.br/maps/place/Par%C3%B3...</td>\n",
       "      <td>NaN</td>\n",
       "      <td>NaN</td>\n",
       "    </tr>\n",
       "    <tr>\n",
       "      <th>Paróquia Santo Ivo</th>\n",
       "      <td>https://www.google.com.br/maps/place/Par%C3%B3...</td>\n",
       "      <td>NaN</td>\n",
       "      <td>NaN</td>\n",
       "    </tr>\n",
       "    <tr>\n",
       "      <th>Paróquia Imaculado Coração de Maria</th>\n",
       "      <td>https://www.google.com.br/maps/place/Par%C3%B3...</td>\n",
       "      <td>NaN</td>\n",
       "      <td>NaN</td>\n",
       "    </tr>\n",
       "    <tr>\n",
       "      <th>Paróquia São João Batista</th>\n",
       "      <td>https://www.google.com.br/maps/place/Par%C3%B3...</td>\n",
       "      <td>NaN</td>\n",
       "      <td>NaN</td>\n",
       "    </tr>\n",
       "    <tr>\n",
       "      <th>Paróquia Verbo Divino</th>\n",
       "      <td>https://www.google.com.br/maps/place/Par%C3%B3...</td>\n",
       "      <td>NaN</td>\n",
       "      <td>NaN</td>\n",
       "    </tr>\n",
       "    <tr>\n",
       "      <th>Paróquia Nossa Senhora Aparecida</th>\n",
       "      <td>https://www.google.com.br/maps/place/Par%C3%B3...</td>\n",
       "      <td>NaN</td>\n",
       "      <td>NaN</td>\n",
       "    </tr>\n",
       "    <tr>\n",
       "      <th>Paróquia San Gennaro</th>\n",
       "      <td>https://www.google.com.br/maps/place/Par%C3%B3...</td>\n",
       "      <td>NaN</td>\n",
       "      <td>NaN</td>\n",
       "    </tr>\n",
       "    <tr>\n",
       "      <th>Capela São Vicente de Paulo</th>\n",
       "      <td>https://www.google.com.br/maps/place/Capela+S%...</td>\n",
       "      <td>NaN</td>\n",
       "      <td>NaN</td>\n",
       "    </tr>\n",
       "    <tr>\n",
       "      <th>Capela Santo Expedito</th>\n",
       "      <td>https://www.google.com.br/maps/place/Capela+Sa...</td>\n",
       "      <td>NaN</td>\n",
       "      <td>NaN</td>\n",
       "    </tr>\n",
       "    <tr>\n",
       "      <th>Paróquia Nossa Senhora de Fátima</th>\n",
       "      <td>https://www.google.com.br/maps/place/Par%C3%B3...</td>\n",
       "      <td>NaN</td>\n",
       "      <td>NaN</td>\n",
       "    </tr>\n",
       "  </tbody>\n",
       "</table>\n",
       "</div>"
      ],
      "text/plain": [
       "                                                                                                 LINK  \\\n",
       "TITLE                                                                                                   \n",
       "Paróquia Santa Teresinha - Higienópolis             https://www.google.com.br/maps/place/Par%C3%B3...   \n",
       "Paróquia Nossa Senhora de Guadalupe                 https://www.google.com.br/maps/place/Par%C3%B3...   \n",
       "Paróquia Nossa Senhora da Conceição - Santa Ifi...  https://www.google.com.br/maps/place/Par%C3%B3...   \n",
       "Paróquia São Luís Gonzaga                           https://www.google.com.br/maps/place/Par%C3%B3...   \n",
       "Paróquia Imaculado Coração de Maria                 https://www.google.com.br/maps/place/Par%C3%B3...   \n",
       "Paróquia São Paulo da Cruz - Igreja do Calvário     https://www.google.com.br/maps/place/Par%C3%B3...   \n",
       "Paróquia Sagrado Coração de Jesus                   https://www.google.com.br/maps/place/Par%C3%B3...   \n",
       "Paróquia Santo Ivo                                  https://www.google.com.br/maps/place/Par%C3%B3...   \n",
       "Paróquia Imaculado Coração de Maria                 https://www.google.com.br/maps/place/Par%C3%B3...   \n",
       "Paróquia São João Batista                           https://www.google.com.br/maps/place/Par%C3%B3...   \n",
       "Paróquia Verbo Divino                               https://www.google.com.br/maps/place/Par%C3%B3...   \n",
       "Paróquia Nossa Senhora Aparecida                    https://www.google.com.br/maps/place/Par%C3%B3...   \n",
       "Paróquia San Gennaro                                https://www.google.com.br/maps/place/Par%C3%B3...   \n",
       "Capela São Vicente de Paulo                         https://www.google.com.br/maps/place/Capela+S%...   \n",
       "Capela Santo Expedito                               https://www.google.com.br/maps/place/Capela+Sa...   \n",
       "Paróquia Nossa Senhora de Fátima                    https://www.google.com.br/maps/place/Par%C3%B3...   \n",
       "\n",
       "                                                    LATITUDE  LONGITUDE  \n",
       "TITLE                                                                    \n",
       "Paróquia Santa Teresinha - Higienópolis                  NaN        NaN  \n",
       "Paróquia Nossa Senhora de Guadalupe                      NaN        NaN  \n",
       "Paróquia Nossa Senhora da Conceição - Santa Ifi...       NaN        NaN  \n",
       "Paróquia São Luís Gonzaga                                NaN        NaN  \n",
       "Paróquia Imaculado Coração de Maria                      NaN        NaN  \n",
       "Paróquia São Paulo da Cruz - Igreja do Calvário          NaN        NaN  \n",
       "Paróquia Sagrado Coração de Jesus                        NaN        NaN  \n",
       "Paróquia Santo Ivo                                       NaN        NaN  \n",
       "Paróquia Imaculado Coração de Maria                      NaN        NaN  \n",
       "Paróquia São João Batista                                NaN        NaN  \n",
       "Paróquia Verbo Divino                                    NaN        NaN  \n",
       "Paróquia Nossa Senhora Aparecida                         NaN        NaN  \n",
       "Paróquia San Gennaro                                     NaN        NaN  \n",
       "Capela São Vicente de Paulo                              NaN        NaN  \n",
       "Capela Santo Expedito                                    NaN        NaN  \n",
       "Paróquia Nossa Senhora de Fátima                         NaN        NaN  "
      ]
     },
     "execution_count": 115,
     "metadata": {},
     "output_type": "execute_result"
    }
   ],
   "source": [
    "import pandas as pd\n",
    "import json\n",
    "\n",
    "\n",
    "with open('results.json') as json_file:\n",
    "    data = json.load(json_file)\n",
    "\n",
    "df = pd.json_normalize(data).set_index('TITLE')\n",
    "df[df.isnull().any(axis=1)]"
   ]
  },
  {
   "cell_type": "code",
   "execution_count": null,
   "metadata": {},
   "outputs": [],
   "source": []
  },
  {
   "cell_type": "code",
   "execution_count": 116,
   "metadata": {},
   "outputs": [
    {
     "ename": "KeyError",
     "evalue": "\"None of ['title'] are in the columns\"",
     "output_type": "error",
     "traceback": [
      "\u001b[0;31m---------------------------------------------------------------------------\u001b[0m",
      "\u001b[0;31mKeyError\u001b[0m                                  Traceback (most recent call last)",
      "\u001b[0;32m/var/folders/9l/6l2xmkj90xxdfbvfl770502r0000gn/T/ipykernel_81762/1112092560.py\u001b[0m in \u001b[0;36m?\u001b[0;34m()\u001b[0m\n\u001b[0;32m----> 1\u001b[0;31m \u001b[0mdf\u001b[0m \u001b[0;34m=\u001b[0m \u001b[0mpd\u001b[0m\u001b[0;34m.\u001b[0m\u001b[0mjson_normalize\u001b[0m\u001b[0;34m(\u001b[0m\u001b[0mdata\u001b[0m\u001b[0;34m)\u001b[0m\u001b[0;34m.\u001b[0m\u001b[0mset_index\u001b[0m\u001b[0;34m(\u001b[0m\u001b[0;34m'title'\u001b[0m\u001b[0;34m)\u001b[0m\u001b[0;34m\u001b[0m\u001b[0;34m\u001b[0m\u001b[0m\n\u001b[0m\u001b[1;32m      2\u001b[0m \u001b[0mdf\u001b[0m\u001b[0;34m\u001b[0m\u001b[0;34m\u001b[0m\u001b[0m\n",
      "\u001b[0;32m~/www/personal/ssvp_churchs/venv/lib/python3.12/site-packages/pandas/core/frame.py\u001b[0m in \u001b[0;36m?\u001b[0;34m(self, keys, drop, append, inplace, verify_integrity)\u001b[0m\n\u001b[1;32m   6118\u001b[0m                     \u001b[0;32mif\u001b[0m \u001b[0;32mnot\u001b[0m \u001b[0mfound\u001b[0m\u001b[0;34m:\u001b[0m\u001b[0;34m\u001b[0m\u001b[0;34m\u001b[0m\u001b[0m\n\u001b[1;32m   6119\u001b[0m                         \u001b[0mmissing\u001b[0m\u001b[0;34m.\u001b[0m\u001b[0mappend\u001b[0m\u001b[0;34m(\u001b[0m\u001b[0mcol\u001b[0m\u001b[0;34m)\u001b[0m\u001b[0;34m\u001b[0m\u001b[0;34m\u001b[0m\u001b[0m\n\u001b[1;32m   6120\u001b[0m \u001b[0;34m\u001b[0m\u001b[0m\n\u001b[1;32m   6121\u001b[0m         \u001b[0;32mif\u001b[0m \u001b[0mmissing\u001b[0m\u001b[0;34m:\u001b[0m\u001b[0;34m\u001b[0m\u001b[0;34m\u001b[0m\u001b[0m\n\u001b[0;32m-> 6122\u001b[0;31m             \u001b[0;32mraise\u001b[0m \u001b[0mKeyError\u001b[0m\u001b[0;34m(\u001b[0m\u001b[0;34mf\"\u001b[0m\u001b[0;34mNone of \u001b[0m\u001b[0;34m{\u001b[0m\u001b[0mmissing\u001b[0m\u001b[0;34m}\u001b[0m\u001b[0;34m are in the columns\u001b[0m\u001b[0;34m\"\u001b[0m\u001b[0;34m)\u001b[0m\u001b[0;34m\u001b[0m\u001b[0;34m\u001b[0m\u001b[0m\n\u001b[0m\u001b[1;32m   6123\u001b[0m \u001b[0;34m\u001b[0m\u001b[0m\n\u001b[1;32m   6124\u001b[0m         \u001b[0;32mif\u001b[0m \u001b[0minplace\u001b[0m\u001b[0;34m:\u001b[0m\u001b[0;34m\u001b[0m\u001b[0;34m\u001b[0m\u001b[0m\n\u001b[1;32m   6125\u001b[0m             \u001b[0mframe\u001b[0m \u001b[0;34m=\u001b[0m \u001b[0mself\u001b[0m\u001b[0;34m\u001b[0m\u001b[0;34m\u001b[0m\u001b[0m\n",
      "\u001b[0;31mKeyError\u001b[0m: \"None of ['title'] are in the columns\""
     ]
    }
   ],
   "source": [
    "df = pd.json_normalize(data).set_index('title')\n",
    "df"
   ]
  }
 ],
 "metadata": {
  "kernelspec": {
   "display_name": "venv",
   "language": "python",
   "name": "python3"
  },
  "language_info": {
   "codemirror_mode": {
    "name": "ipython",
    "version": 3
   },
   "file_extension": ".py",
   "mimetype": "text/x-python",
   "name": "python",
   "nbconvert_exporter": "python",
   "pygments_lexer": "ipython3",
   "version": "3.12.1"
  }
 },
 "nbformat": 4,
 "nbformat_minor": 2
}
